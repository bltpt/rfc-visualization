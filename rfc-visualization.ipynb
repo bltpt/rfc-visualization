{
 "cells": [
  {
   "cell_type": "code",
   "execution_count": 52,
   "metadata": {
    "collapsed": true
   },
   "outputs": [],
   "source": [
    "import pygraphviz as pgv\n",
    "import xmltodict as xtd\n",
    "import requests\n",
    "from collections import OrderedDict"
   ]
  },
  {
   "cell_type": "code",
   "execution_count": 53,
   "metadata": {
    "collapsed": false
   },
   "outputs": [],
   "source": [
    "# Read the RFC Index as XML and convert to a python Dict\n",
    "#rfcIndexUrl = 'https://www.rfc-editor.org/in-notes/rfc-index.xml'\n",
    "#xmlData = requests.get(rfcIndexUrl)\n",
    "#dictData = xtd.parse(xmlData.text)\n",
    "with open('rfc-index.xml','r') as xmlData:\n",
    "    dictData = xtd.parse(xmlData.read())\n",
    "rfcIndex = dictData['rfc-index']"
   ]
  },
  {
   "cell_type": "code",
   "execution_count": 54,
   "metadata": {
    "collapsed": false
   },
   "outputs": [
    {
     "data": {
      "text/plain": [
       "odict_keys(['@xmlns', '@xmlns:xsi', '@xsi:schemaLocation', 'bcp-entry', 'fyi-entry', 'rfc-entry', 'rfc-not-issued-entry', 'std-entry'])"
      ]
     },
     "execution_count": 54,
     "metadata": {},
     "output_type": "execute_result"
    }
   ],
   "source": [
    "# The RFC Index has the following elements of interest:\n",
    "rfcIndex.keys()"
   ]
  },
  {
   "cell_type": "code",
   "execution_count": 55,
   "metadata": {
    "collapsed": true
   },
   "outputs": [],
   "source": [
    "# Import color definitions to be used in coloring edges and nodes.\n",
    "with open('svg-colors.txt','r') as colorFile:\n",
    "    colors = colorFile.readlines()\n",
    "    colors = [ color.strip() for color in colors]"
   ]
  },
  {
   "cell_type": "code",
   "execution_count": 66,
   "metadata": {
    "collapsed": false
   },
   "outputs": [],
   "source": [
    "# Initialize a new digraph, \"G\", to represent BCPs and RFCs as nodes;\n",
    "# is-also's, obsolescence, and updates as edges.\n",
    "G = pgv.AGraph(directed=True)\n",
    "G.graph_attr['label']=\"RFC Directed Graph\"\n",
    "G.graph_attr['overlap']='false'"
   ]
  },
  {
   "cell_type": "code",
   "execution_count": 67,
   "metadata": {
    "collapsed": false
   },
   "outputs": [],
   "source": [
    "def graphNodes(graph, rfcIndexNode, attributes):\n",
    "    '''graphNodes(): PyGraphVizGraph ListOfOrderedDicts ListOfStr--> PyGraphVizGraph\n",
    "    Purpose: for each element of rfcIndexNode, add its 'doc-id' key value as a node\n",
    "             to graph, and for each key value in attributes, add the key values for\n",
    "             that node's attribute to graph as an edge, returning the updated graph.'''\n",
    "    for node in rfcIndexNode:\n",
    "        # Add the node to the graph\n",
    "        try:\n",
    "            graph.add_node(node['doc-id'])\n",
    "        except:\n",
    "            print(\"error adding node %s. No 'doc-id' string?\" % node)\n",
    "        \n",
    "        # Now, add edges\n",
    "        for attr in attributes:\n",
    "            try:\n",
    "                if isinstance(node[attr], OrderedDict):\n",
    "                    if isinstance(node[attr]['doc-id'],str):\n",
    "                        G.add_edge(node['doc-id'],node[attr]['doc-id'],label=attr)\n",
    "                    elif isinstance(node[attr]['doc-id'],list):\n",
    "                        for standard in node[attr]['doc-id']:\n",
    "                            G.add_edge(node['doc-id'],standard,label=attr)\n",
    "                    else:\n",
    "                        print(\"error: %s is neither an string nor a list for node %s\" % (node[attr], node['doc-id'] ))\n",
    "                else:\n",
    "                    print(\"error: %s isn't an OrderedDict for node %s\" % (node[attr], node['doc-id']))\n",
    "            except KeyError:\n",
    "                pass\n",
    "            \n",
    "    return(graph)\n",
    "                        "
   ]
  },
  {
   "cell_type": "code",
   "execution_count": 68,
   "metadata": {
    "collapsed": false
   },
   "outputs": [],
   "source": [
    "#G = graphNodes(G, rfcIndex['bcp-entry'], ['is-also'])\n",
    "#G = graphNodes(G, rfcIndex['fyi-entry'], ['is-also'])\n",
    "G = graphNodes(G, rfcIndex['rfc-entry'], ['is-also','obsoleted-by','updates'])"
   ]
  },
  {
   "cell_type": "code",
   "execution_count": 69,
   "metadata": {
    "collapsed": false
   },
   "outputs": [
    {
     "data": {
      "text/plain": [
       "8819"
      ]
     },
     "execution_count": 69,
     "metadata": {},
     "output_type": "execute_result"
    }
   ],
   "source": [
    "# Inspect the size of the graph to make sure it's sane\n",
    "len(G)"
   ]
  },
  {
   "cell_type": "code",
   "execution_count": 70,
   "metadata": {
    "collapsed": false
   },
   "outputs": [],
   "source": [
    "# N.B. As of this writing, this takes several minutes to run.\n",
    "\n",
    "# Generate the graph.\n",
    "G.layout()\n",
    "G.write('rfc-visualization.dot')\n",
    "G.draw('rfc-visualization.svg')"
   ]
  },
  {
   "cell_type": "code",
   "execution_count": null,
   "metadata": {
    "collapsed": true
   },
   "outputs": [],
   "source": []
  }
 ],
 "metadata": {
  "kernelspec": {
   "display_name": "Python 3",
   "language": "python",
   "name": "python3"
  },
  "language_info": {
   "codemirror_mode": {
    "name": "ipython",
    "version": 3
   },
   "file_extension": ".py",
   "mimetype": "text/x-python",
   "name": "python",
   "nbconvert_exporter": "python",
   "pygments_lexer": "ipython3",
   "version": "3.5.3"
  }
 },
 "nbformat": 4,
 "nbformat_minor": 2
}
