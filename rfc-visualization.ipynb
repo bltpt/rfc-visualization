{
 "cells": [
  {
   "cell_type": "code",
   "execution_count": 2,
   "metadata": {
    "collapsed": true
   },
   "outputs": [],
   "source": [
    "import pygraphviz as pgv\n",
    "import xmltodict as xtd\n",
    "import requests\n",
    "from collections import OrderedDict\n",
    "import random"
   ]
  },
  {
   "cell_type": "code",
   "execution_count": 3,
   "metadata": {
    "collapsed": false
   },
   "outputs": [],
   "source": [
    "# Read the RFC Index as XML and convert to a python Dict\n",
    "#rfcIndexUrl = 'https://www.rfc-editor.org/in-notes/rfc-index.xml'\n",
    "#xmlData = requests.get(rfcIndexUrl)\n",
    "#dictData = xtd.parse(xmlData.text)\n",
    "with open('rfc-index.xml','r') as xmlData:\n",
    "    dictData = xtd.parse(xmlData.read())\n",
    "rfcIndex = dictData['rfc-index']"
   ]
  },
  {
   "cell_type": "code",
   "execution_count": 4,
   "metadata": {
    "collapsed": false
   },
   "outputs": [
    {
     "data": {
      "text/plain": [
       "odict_keys(['@xmlns', '@xmlns:xsi', '@xsi:schemaLocation', 'bcp-entry', 'fyi-entry', 'rfc-entry', 'rfc-not-issued-entry', 'std-entry'])"
      ]
     },
     "execution_count": 4,
     "metadata": {},
     "output_type": "execute_result"
    }
   ],
   "source": [
    "# The RFC Index has the following elements of interest:\n",
    "rfcIndex.keys()"
   ]
  },
  {
   "cell_type": "code",
   "execution_count": 5,
   "metadata": {
    "collapsed": false
   },
   "outputs": [],
   "source": [
    "# Initialize a new digraph, \"G\", to represent BCPs and RFCs as nodes;\n",
    "# is-also's, obsolescence, and updates as edges.\n",
    "G = pgv.AGraph(directed=True)\n",
    "G.graph_attr['label']=\"RFC Directed Graph\"\n",
    "G.graph_attr['overlap']='false'"
   ]
  },
  {
   "cell_type": "code",
   "execution_count": 6,
   "metadata": {
    "collapsed": false
   },
   "outputs": [],
   "source": [
    "def graphNodes(graph, rfcIndexNode, attributes):\n",
    "    '''graphNodes(): PyGraphVizGraph ListOfOrderedDicts ListOfStr--> PyGraphVizGraph\n",
    "    Purpose: for each element of rfcIndexNode, add its 'doc-id' key value as a node\n",
    "             to graph, and for each key value in attributes, add the key values for\n",
    "             that node's attribute to graph as an edge, returning the updated graph.'''\n",
    "    for node in rfcIndexNode:\n",
    "        # Add the node to the graph\n",
    "        try:\n",
    "            graph.add_node(node['doc-id'])\n",
    "        except:\n",
    "            print(\"error adding node %s. No 'doc-id' string?\" % node)\n",
    "        \n",
    "        # Now, add edges\n",
    "        for attr in attributes:\n",
    "            try:\n",
    "                if isinstance(node[attr], OrderedDict):\n",
    "                    if isinstance(node[attr]['doc-id'],str):\n",
    "                        graph.add_edge(node['doc-id'],node[attr]['doc-id'],label=attr)\n",
    "                    elif isinstance(node[attr]['doc-id'],list):\n",
    "                        for standard in node[attr]['doc-id']:\n",
    "                            graph.add_edge(node['doc-id'],standard,label=attr)\n",
    "                    else:\n",
    "                        print(\"error: %s is neither an string nor a list for node %s\" % (node[attr], node['doc-id'] ))\n",
    "                else:\n",
    "                    print(\"error: %s isn't an OrderedDict for node %s\" % (node[attr], node['doc-id']))\n",
    "            except KeyError:\n",
    "                pass\n",
    "            \n",
    "    return(graph)\n",
    "                        "
   ]
  },
  {
   "cell_type": "code",
   "execution_count": 7,
   "metadata": {
    "collapsed": false
   },
   "outputs": [],
   "source": [
    "# Build the Graph\n",
    "#G = graphNodes(G, rfcIndex['bcp-entry'], ['is-also'])\n",
    "#G = graphNodes(G, rfcIndex['fyi-entry'], ['is-also'])\n",
    "G = graphNodes(G, rfcIndex['rfc-entry'], ['is-also','obsoleted-by','updates'])"
   ]
  },
  {
   "cell_type": "code",
   "execution_count": 8,
   "metadata": {
    "collapsed": false
   },
   "outputs": [],
   "source": [
    "# Identify clusters of nodes. Here, a cluster is a subgraph of G having at least two verticies\n",
    "# and an edge, along with all other verticies to which a path can be traced. A cluster is recorded\n",
    "# as a Python set object containing all verticies in the set.\n",
    "clusters = list()\n",
    "edgeSets = [set(edge) for edge in G.edges()]\n",
    "clusters.append(edgeSets[0])\n",
    "for edge in edgeSets:\n",
    "    membersOf = list()\n",
    "    for cluster in clusters:\n",
    "        if cluster.intersection(edge):\n",
    "            cluster.update(edge)\n",
    "            membersOf.append(cluster)\n",
    "    if len(membersOf) is 0:\n",
    "        clusters.append(edge)"
   ]
  },
  {
   "cell_type": "code",
   "execution_count": 23,
   "metadata": {
    "collapsed": false
   },
   "outputs": [],
   "source": [
    "def genColorSet(colorCount):\n",
    "    '''genColorSet(): Int --> SetOfRGBCodes\n",
    "    Purpose: to generate a SetOfRGBCodes of count Int. Graphviz permits naming\n",
    "    RGB colors in six-digit, zero-padded values. See https://graphviz.org/doc/info/attrs.html#d:colors\n",
    "    '''\n",
    "    colors = set()\n",
    "    \n",
    "    for i in range(0,colorCount):\n",
    "        r = str(hex(random.randint(1,255)))[2:]\n",
    "        g = str(hex(random.randint(0,255)))[2:]\n",
    "        b = str(hex(random.randint(0,255)))[2:]\n",
    "        color = \"#\"+r+g+b\n",
    "        colors.add(color)\n",
    "        \n",
    "    return colors"
   ]
  },
  {
   "cell_type": "code",
   "execution_count": 24,
   "metadata": {
    "collapsed": false
   },
   "outputs": [],
   "source": [
    "# Next, color-code each cluster in a new dict, \"clusterColors\". Here, the key will\n",
    "# be a cluster's color, and the value will be the cluster.\n",
    "colorSet = genColorSet(len(clusters))\n",
    "clusterColors = dict()\n",
    "for cluster in clusters:\n",
    "    clusterColors[colorSet.pop()] = cluster"
   ]
  },
  {
   "cell_type": "code",
   "execution_count": 25,
   "metadata": {
    "collapsed": false
   },
   "outputs": [
    {
     "name": "stdout",
     "output_type": "stream",
     "text": [
      "set()\n"
     ]
    }
   ],
   "source": [
    "print(colorSet)"
   ]
  },
  {
   "cell_type": "code",
   "execution_count": 30,
   "metadata": {
    "collapsed": false
   },
   "outputs": [],
   "source": [
    "# Then, for each edge, lookup and apply its cluster color to the Graph's\n",
    "# nodes and edges\n",
    "for color,cluster in clusterColors.items():\n",
    "    for edge in G.edges():\n",
    "        if edge[0] in cluster or edge[1] in cluster:\n",
    "            e = G.get_edge(edge[0],edge[1])\n",
    "            e.attr['color'] = color"
   ]
  },
  {
   "cell_type": "code",
   "execution_count": 31,
   "metadata": {
    "collapsed": false
   },
   "outputs": [
    {
     "data": {
      "text/plain": [
       "8819"
      ]
     },
     "execution_count": 31,
     "metadata": {},
     "output_type": "execute_result"
    }
   ],
   "source": [
    "# Inspect the size of the graph to make sure it's sane\n",
    "len(G)"
   ]
  },
  {
   "cell_type": "code",
   "execution_count": 32,
   "metadata": {
    "collapsed": false
   },
   "outputs": [
    {
     "name": "stderr",
     "output_type": "stream",
     "text": [
      "/usr/lib/python3/dist-packages/pygraphviz/agraph.py:1334: RuntimeWarning: Warning: #d6ec is not a known color.\n",
      "Warning: #38fa is not a known color.\n",
      "Warning: #3bbd is not a known color.\n",
      "Warning: #fbb7 is not a known color.\n",
      "Warning: #3a29 is not a known color.\n",
      "Warning: #9d39 is not a known color.\n",
      "Warning: #3687 is not a known color.\n",
      "Warning: #c22c is not a known color.\n",
      "Warning: #76c7 is not a known color.\n",
      "Warning: #39e6 is not a known color.\n",
      "Warning: #223b is not a known color.\n",
      "Warning: #db5b is not a known color.\n",
      "Warning: #f1a3 is not a known color.\n",
      "\n",
      "  warnings.warn(b\"\".join(errors).decode(self.encoding), RuntimeWarning)\n"
     ]
    }
   ],
   "source": [
    "# N.B. As of this writing, this takes several minutes to run.\n",
    "\n",
    "# Generate the graph.\n",
    "G.layout()\n",
    "G.write('rfc-visualization.dot')\n",
    "G.draw('rfc-visualization.svg')"
   ]
  }
 ],
 "metadata": {
  "kernelspec": {
   "display_name": "Python 3",
   "language": "python",
   "name": "python3"
  }
 },
 "nbformat": 4,
 "nbformat_minor": 2
}
