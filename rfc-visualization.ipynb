{
 "cells": [
  {
   "cell_type": "code",
   "execution_count": 82,
   "metadata": {
    "collapsed": true
   },
   "outputs": [],
   "source": [
    "import pygraphviz as pgv\n",
    "import xmltodict as xtd\n",
    "import requests\n",
    "from collections import OrderedDict"
   ]
  },
  {
   "cell_type": "code",
   "execution_count": 83,
   "metadata": {
    "collapsed": false
   },
   "outputs": [],
   "source": [
    "# Read the RFC Index as XML and convert to a python Dict\n",
    "#rfcIndexUrl = 'https://www.rfc-editor.org/in-notes/rfc-index.xml'\n",
    "#xmlData = requests.get(rfcIndexUrl)\n",
    "#dictData = xtd.parse(xmlData.text)\n",
    "with open('rfc-index.xml','r') as xmlData:\n",
    "    dictData = xtd.parse(xmlData.read())\n",
    "rfcIndex = dictData['rfc-index']"
   ]
  },
  {
   "cell_type": "code",
   "execution_count": 84,
   "metadata": {
    "collapsed": false
   },
   "outputs": [
    {
     "data": {
      "text/plain": [
       "odict_keys(['@xmlns', '@xmlns:xsi', '@xsi:schemaLocation', 'bcp-entry', 'fyi-entry', 'rfc-entry', 'rfc-not-issued-entry', 'std-entry'])"
      ]
     },
     "execution_count": 84,
     "metadata": {},
     "output_type": "execute_result"
    }
   ],
   "source": [
    "# The RFC Index has the following elements of interest:\n",
    "rfcIndex.keys()"
   ]
  },
  {
   "cell_type": "code",
   "execution_count": 85,
   "metadata": {
    "collapsed": true
   },
   "outputs": [],
   "source": [
    "# Import color definitions to be used in coloring edges and nodes.\n",
    "with open('svg-colors.txt','r') as colorFile:\n",
    "    colors = colorFile.readlines()\n",
    "    colors = [ color.strip() for color in colors]"
   ]
  },
  {
   "cell_type": "code",
   "execution_count": 86,
   "metadata": {
    "collapsed": false
   },
   "outputs": [],
   "source": [
    "# Initialize a new digraph, \"G\", to represent BCPs and RFCs as nodes;\n",
    "# is-also's, obsolescence, and updates as edges.\n",
    "G = pgv.AGraph(directed=True)\n",
    "G.graph_attr['label']=\"RFC Directed Graph\""
   ]
  },
  {
   "cell_type": "code",
   "execution_count": 18,
   "metadata": {
    "collapsed": false
   },
   "outputs": [],
   "source": [
    "# For each element in the BCP Entry list, add it to the graph, and build\n",
    "# edges for is-also's to RFC nodes.\n",
    "for bcp in rfcIndex['bcp-entry']:\n",
    "    G.add_node(bcp['doc-id'])\n",
    "    try:\n",
    "        if isinstance(bcp['is-also'], OrderedDict):\n",
    "            if isinstance(bcp['is-also']['doc-id'],str):\n",
    "                #print(bcp['is-also']['doc-id'])\n",
    "                G.add_edge(bcp['doc-id'],bcp['is-also']['doc-id'],label='is-also')\n",
    "            elif isinstance(bcp['is-also']['doc-id'],list):\n",
    "                #print(bcp['is-also']['doc-id'])\n",
    "                for rfc in bcp['is-also']['doc-id']:\n",
    "                    #print(rfc)\n",
    "                    G.add_edge(bcp['doc-id'],rfc,label='is-also')\n",
    "            else:\n",
    "                print(\"error: is-also has unexpected format\")\n",
    "    except KeyError:\n",
    "        pass"
   ]
  },
  {
   "cell_type": "code",
   "execution_count": 19,
   "metadata": {
    "collapsed": false
   },
   "outputs": [],
   "source": [
    "# For each element in the FYI Entry list, add it to the graph, and build\n",
    "# edges for is-also's to RFC nodes.\n",
    "for fyi in rfcIndex['fyi-entry']:\n",
    "    G.add_node(fyi['doc-id'])\n",
    "    try:\n",
    "        if isinstance(fyi['is-also'], OrderedDict):\n",
    "            if isinstance(fyi['is-also']['doc-id'],str):\n",
    "                G.add_edge(fyi['doc-id'],fyi['is-also']['doc-id'],label='is-also')\n",
    "            elif isinstance(fyi['is-also']['doc-id'],list):\n",
    "                for rfc in fyi['is-also']['doc-id']:\n",
    "                    G.add_edge(fyi['doc-id'],rfc,label='is-also')\n",
    "            else:\n",
    "                print(\"error: is-also has unexpected format\")\n",
    "    except KeyError:\n",
    "        pass"
   ]
  },
  {
   "cell_type": "code",
   "execution_count": 89,
   "metadata": {
    "collapsed": false
   },
   "outputs": [
    {
     "name": "stdout",
     "output_type": "stream",
     "text": [
      "8477\n"
     ]
    }
   ],
   "source": [
    "# For each element in the RFC Entry list, add it to the graph, and build\n",
    "# edges for is-also's, updates, obsoletes.\n",
    "counter = len([rfc for rfc in rfcIndex['rfc-entry']])\n",
    "print(counter)\n",
    "\n",
    "for rfc in rfcIndex['rfc-entry'][:counter]:\n",
    "    G.add_node(rfc['doc-id'])\n",
    "\n",
    "#G.add_node(rfcIndex['rfc-entry'][0]['doc-id'])\n",
    "\n",
    "#for rfc in rfcIndex['rfc-entry'][:counter]:\n",
    "#    G.add_node(rfc['doc-id'])\n",
    "\n",
    "#for rfc in rfcIndex['rfc-entry']:\n",
    "#    try:\n",
    "#        G.add_node(rfc['doc-id'])\n",
    "#    except:\n",
    "#        print(\"error reached\")\n",
    "#    try:\n",
    "#        if isinstance(rfc['is-also'], OrderedDict):\n",
    "#            if isinstance(rfc['is-also']['doc-id'],str):\n",
    "#                G.add_edge(rfc['doc-id'],rfc['is-also']['doc-id'],label='is-also')\n",
    "#            elif isinstance(rfc['is-also']['doc-id'],list):\n",
    "#                for standard in rfc['is-also']['doc-id']:\n",
    "#                    G.add_edge(rfc['doc-id'],standard,label='is-also')\n",
    "#            else:\n",
    "#                print(\"error: is-also has unexpected format\")\n",
    "#    except Exception as e:\n",
    "#        pass\n",
    "#obsoletes', OrderedDict([('doc-id', 'RFC0003')])),\n",
    "#              ('obsoleted-by', OrderedDict([('doc-id', 'RFC0016')])),\n",
    "#              ('updated-by',"
   ]
  },
  {
   "cell_type": "code",
   "execution_count": 16,
   "metadata": {
    "collapsed": false
   },
   "outputs": [],
   "source": [
    "#[rfc['doc-id'] for rfc in rfcIndex['rfc-entry']]\n"
   ]
  },
  {
   "cell_type": "code",
   "execution_count": 90,
   "metadata": {
    "collapsed": false
   },
   "outputs": [],
   "source": [
    "# Generate the graph.\n",
    "# N.B. As of this writing, this takes several minutes run.\n",
    "G.layout()\n",
    "G.write('rfc-visualization.dot')\n",
    "G.draw('rfc-visualization.svg')"
   ]
  },
  {
   "cell_type": "code",
   "execution_count": null,
   "metadata": {
    "collapsed": true
   },
   "outputs": [],
   "source": []
  }
 ],
 "metadata": {
  "kernelspec": {
   "display_name": "Python 3",
   "language": "python",
   "name": "python3"
  },
  "language_info": {
   "codemirror_mode": {
    "name": "ipython",
    "version": 3
   },
   "file_extension": ".py",
   "mimetype": "text/x-python",
   "name": "python",
   "nbconvert_exporter": "python",
   "pygments_lexer": "ipython3",
   "version": "3.5.3"
  }
 },
 "nbformat": 4,
 "nbformat_minor": 2
}
