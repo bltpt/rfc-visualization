{
 "cells": [
  {
   "cell_type": "code",
   "execution_count": 1,
   "metadata": {
    "collapsed": true
   },
   "outputs": [],
   "source": [
    "import pygraphviz as pgv\n",
    "import xmltodict as xtd\n",
    "import requests\n",
    "from collections import OrderedDict"
   ]
  },
  {
   "cell_type": "code",
   "execution_count": 2,
   "metadata": {
    "collapsed": false
   },
   "outputs": [],
   "source": [
    "# Read the RFC Index as XML and convert to a python Dict\n",
    "#rfcIndexUrl = 'https://www.rfc-editor.org/in-notes/rfc-index.xml'\n",
    "#xmlData = requests.get(rfcIndexUrl)\n",
    "#dictData = xtd.parse(xmlData.text)\n",
    "with open('rfc-index.xml','r') as xmlData:\n",
    "    dictData = xtd.parse(xmlData.read())\n",
    "rfcIndex = dictData['rfc-index']"
   ]
  },
  {
   "cell_type": "code",
   "execution_count": 8,
   "metadata": {
    "collapsed": false
   },
   "outputs": [
    {
     "data": {
      "text/plain": [
       "odict_keys(['@xmlns', '@xmlns:xsi', '@xsi:schemaLocation', 'bcp-entry', 'fyi-entry', 'rfc-entry', 'rfc-not-issued-entry', 'std-entry'])"
      ]
     },
     "execution_count": 8,
     "metadata": {},
     "output_type": "execute_result"
    }
   ],
   "source": [
    "# The RFC Index has the following elements of interest:\n",
    "rfcIndex.keys()"
   ]
  },
  {
   "cell_type": "code",
   "execution_count": 3,
   "metadata": {
    "collapsed": false
   },
   "outputs": [],
   "source": [
    "# Initialize a new digraph, \"G\", to represent BCPs and RFCs as nodes;\n",
    "# is-also's, obsolescence, and updates as edges.\n",
    "G = pgv.AGraph(directed=True)"
   ]
  },
  {
   "cell_type": "code",
   "execution_count": 4,
   "metadata": {
    "collapsed": false
   },
   "outputs": [],
   "source": [
    "# For each element in the BCP Entry list, add it to the graph, and build\n",
    "# edges for is-also's to RFC nodes.\n",
    "for bcp in rfcIndex['bcp-entry']:\n",
    "    G.add_node(bcp['doc-id'])\n",
    "    try:\n",
    "        if isinstance(bcp['is-also'], OrderedDict):\n",
    "            if isinstance(bcp['is-also']['doc-id'],str):\n",
    "                #print(bcp['is-also']['doc-id'])\n",
    "                G.add_edge(bcp['doc-id'],bcp['is-also']['doc-id'],label='is-also')\n",
    "            elif isinstance(bcp['is-also']['doc-id'],list):\n",
    "                #print(bcp['is-also']['doc-id'])\n",
    "                for rfc in bcp['is-also']['doc-id']:\n",
    "                    #print(rfc)\n",
    "                    G.add_edge(bcp['doc-id'],rfc,label='is-also')\n",
    "            else:\n",
    "                print(\"error: is-also has unexpected format\")\n",
    "    except KeyError:\n",
    "        pass"
   ]
  },
  {
   "cell_type": "code",
   "execution_count": 10,
   "metadata": {
    "collapsed": false
   },
   "outputs": [],
   "source": [
    "# For each element in the FYI Entry list, add it to the graph, and build\n",
    "# edges for is-also's to RFC nodes.\n",
    "for fyi in rfcIndex['fyi-entry']:\n",
    "    G.add_node(fyi['doc-id'])\n",
    "    try:\n",
    "        if isinstance(fyi['is-also'], OrderedDict):\n",
    "            if isinstance(fyi['is-also']['doc-id'],str):\n",
    "                G.add_edge(fyi['doc-id'],fyi['is-also']['doc-id'],label='is-also')\n",
    "            elif isinstance(fyi['is-also']['doc-id'],list):\n",
    "                for rfc in fyi['is-also']['doc-id']:\n",
    "                    G.add_edge(fyi['doc-id'],rfc,label='is-also')\n",
    "            else:\n",
    "                print(\"error: is-also has unexpected format\")\n",
    "    except KeyError:\n",
    "        pass"
   ]
  },
  {
   "cell_type": "code",
   "execution_count": 11,
   "metadata": {
    "collapsed": true
   },
   "outputs": [],
   "source": [
    "# Generate the graph\n",
    "G.layout()\n",
    "G.write('rfc-visualization.dot')\n",
    "G.draw('rfc-visualization.svg')"
   ]
  },
  {
   "cell_type": "code",
   "execution_count": 7,
   "metadata": {
    "collapsed": false
   },
   "outputs": [],
   "source": []
  },
  {
   "cell_type": "code",
   "execution_count": null,
   "metadata": {
    "collapsed": true
   },
   "outputs": [],
   "source": []
  }
 ],
 "metadata": {
  "kernelspec": {
   "display_name": "Python 3",
   "language": "python",
   "name": "python3"
  },
  "language_info": {
   "codemirror_mode": {
    "name": "ipython",
    "version": 3
   },
   "file_extension": ".py",
   "mimetype": "text/x-python",
   "name": "python",
   "nbconvert_exporter": "python",
   "pygments_lexer": "ipython3",
   "version": "3.5.3"
  }
 },
 "nbformat": 4,
 "nbformat_minor": 2
}
